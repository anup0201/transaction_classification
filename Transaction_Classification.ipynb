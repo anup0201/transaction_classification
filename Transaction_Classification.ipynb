{
 "cells": [
  {
   "attachments": {},
   "cell_type": "markdown",
   "metadata": {},
   "source": [
    "# Transactions Analysis using Machine Learning: Classifying Personal Text Messages"
   ]
  },
  {
   "attachments": {},
   "cell_type": "markdown",
   "metadata": {},
   "source": [
    "# Introduction:\n",
    "\n",
    "Have you ever found yourself drowning in a sea of text messages from your bank, wondering how to keep track of your expenses and transactions? Fear not, because machine learning can help! In this notebook, we will explore how to use machine learning techniques to classify personal text messages into different categories based on their content. Specifically, we will focus on a project called Transactions Analysis, where we classify personal text messages into three categories: Info, Received, and Spent.\n",
    "\n",
    "The Info category includes messages related to account information, recharge bills, and due dates, while the Received category includes messages related to money received in your bank account. The Spent category includes messages related to money spent from your bank account. We will demonstrate how to use machine learning algorithms to classify these messages accurately and efficiently."
   ]
  },
  {
   "attachments": {},
   "cell_type": "markdown",
   "metadata": {},
   "source": [
    "# Data Collection:\n",
    "\n",
    "To collect the data for this project, I created a Flutter app that reads messages from an Android phone and send them to the FastAPI server. Using this server we converted the messages received as json to a csv file.\n",
    "\n",
    "FastAPI is a modern, fast (high-performance), web framework for building APIs with Python. With FastAPI, I was able to quickly set up a server that could receive the messages as json and convert it for use in our machine learning algorithms.\n",
    "\n",
    "The Flutter app was created specifically to read messages from an Android phone and convert them into a format that could be easily processed by our server. By using Flutter, we were able to create a mobile app that was both efficient and user-friendly, making it easy for anyone to collect and process personal text messages for use in machine learning projects.\n",
    "\n",
    "By combining FastAPI and Flutter, we were able to create a powerful data collection tool that streamlined the process of gathering personal text messages for the Transactions Analysis project. With our data in hand, we are ready to move on to the next stage of the project: data processing and analysis."
   ]
  },
  {
   "cell_type": "code",
   "execution_count": 2,
   "metadata": {},
   "outputs": [],
   "source": [
    "### Importing Libraries\n",
    "import os\n",
    "os.environ['TF_CPP_MIN_LOG_LEVEL'] = '3' \n",
    "import tensorflow as tf\n",
    "\n",
    "import numpy as np\n",
    "import pandas as pd\n",
    "import seaborn as sns\n",
    "import matplotlib.pyplot as plt\n",
    "import re\n",
    "\n",
    "import tensorflow as tf\n",
    "import string\n",
    "from tensorflow.keras.layers import Dense,TextVectorization,GlobalAveragePooling1D,Embedding,Dropout\n",
    "from sklearn.model_selection import train_test_split"
   ]
  },
  {
   "attachments": {},
   "cell_type": "markdown",
   "metadata": {},
   "source": [
    "# Data Information:"
   ]
  },
  {
   "cell_type": "code",
   "execution_count": 3,
   "metadata": {},
   "outputs": [
    {
     "name": "stdout",
     "output_type": "stream",
     "text": [
      "<class 'pandas.core.frame.DataFrame'>\n",
      "RangeIndex: 6957 entries, 0 to 6956\n",
      "Data columns (total 4 columns):\n",
      " #   Column    Non-Null Count  Dtype \n",
      "---  ------    --------------  ----- \n",
      " 0   mess_id   6957 non-null   int64 \n",
      " 1   mess_dat  6957 non-null   object\n",
      " 2   mess_add  6957 non-null   object\n",
      " 3   mess_bod  6953 non-null   object\n",
      "dtypes: int64(1), object(3)\n",
      "memory usage: 217.5+ KB\n"
     ]
    }
   ],
   "source": [
    "sns.set_style('darkgrid') # set plot style \n",
    "dt = pd.read_csv('sample.csv')\n",
    "dt.info()"
   ]
  },
  {
   "attachments": {},
   "cell_type": "markdown",
   "metadata": {},
   "source": [
    " Our Data has 4 different columns \n",
    "   1. mess_id is the id associated with the messages unique values.\n",
    "   2. mess_dat is the date on which the message was received.\n",
    "   3. mess_add represents sender address.\n",
    "   4. mess_bod the actual text message received.\n",
    "   5. There are total of 6957 messages as I have turned my backup on since very long I guess😊\n",
    "   6. Mess_body has some Null values."
   ]
  },
  {
   "cell_type": "code",
   "execution_count": 4,
   "metadata": {},
   "outputs": [
    {
     "name": "stdout",
     "output_type": "stream",
     "text": [
      "0.06 % of data  is null, total of 4 null messages.\n"
     ]
    }
   ],
   "source": [
    "print(f\"{round(dt.mess_bod.isnull().sum()/dt.shape[0] * 100,2)} % of data  is null, total of {dt.mess_bod.isnull().sum()} null messages.\")"
   ]
  },
  {
   "attachments": {},
   "cell_type": "markdown",
   "metadata": {},
   "source": [
    "Drop the null values."
   ]
  },
  {
   "cell_type": "code",
   "execution_count": 5,
   "metadata": {},
   "outputs": [
    {
     "data": {
      "text/plain": [
       "mess_id     0\n",
       "mess_dat    0\n",
       "mess_add    0\n",
       "mess_bod    0\n",
       "dtype: int64"
      ]
     },
     "execution_count": 5,
     "metadata": {},
     "output_type": "execute_result"
    }
   ],
   "source": [
    "dt.dropna(inplace = True)\n",
    "dt.isnull().sum()"
   ]
  },
  {
   "attachments": {},
   "cell_type": "markdown",
   "metadata": {},
   "source": [
    "## Data Wrangling"
   ]
  },
  {
   "attachments": {},
   "cell_type": "markdown",
   "metadata": {},
   "source": [
    "To analyse 6000+ texts daily is a tedious task so I took a shortcut and created a list of word that are most likely to appear in an transactional message. Then I created a function named cat_transactions to classify the text in two different category based on a condition.\n",
    "\n",
    "The cat_transactions function works by first splitting the text message into individual words using the split function. It then checks each word against a list of transaction-related words, such as \"received,\" \"sent,\" \"debited,\" and \"credited.\" If any of these words are found in the message, the function returns \"Transaction.\" Otherwise, it returns \"Other.\"\n",
    "\n",
    "By using this function, I was able to quickly identify transactions within my text message data. As most of the words that are related to transactions from bank have these set of words in them, There are many different ways we can even further identified the words common in transactional messages."
   ]
  },
  {
   "cell_type": "code",
   "execution_count": 6,
   "metadata": {},
   "outputs": [],
   "source": [
    "def cat_transactions(x):\n",
    "    x = str(x).split(\" \")\n",
    "    transaction_words = [\"received\",\"sent\",\"transaction\",\"debited\",\"credited\",\"db\",\"cr\",\"card\",\"rs\"]\n",
    "    for words in transaction_words:\n",
    "        if words in x:\n",
    "            return \"Transaction\"\n",
    "    \n",
    "    return \"Other\""
   ]
  },
  {
   "attachments": {},
   "cell_type": "markdown",
   "metadata": {},
   "source": [
    "We convert the text messages into lowercase and then apply the above funtion on the message body to classify our text messages."
   ]
  },
  {
   "cell_type": "code",
   "execution_count": 7,
   "metadata": {},
   "outputs": [],
   "source": [
    "dt[\"mess_bod\"] = dt[\"mess_bod\"].str.lower()\n",
    "dt[\"mess_type\"] = dt[\"mess_bod\"].apply(cat_transactions)"
   ]
  },
  {
   "cell_type": "code",
   "execution_count": 8,
   "metadata": {},
   "outputs": [
    {
     "data": {
      "image/png": "[encoded data removed]",
      "text/plain": [
       "<Figure size 640x480 with 1 Axes>"
      ]
     },
     "metadata": {},
     "output_type": "display_data"
    }
   ],
   "source": [
    "dt.mess_type.value_counts().plot(kind = 'bar',\n",
    "                                 title=\"Number of messages from each category\", color=\"crimson\")\n",
    "plt.axhline(dt.mess_type.value_counts()[1],color = 'black',)\n",
    "plt.annotate(f\"{dt.mess_type.value_counts()[1]} transactional messages\",xy=(0.6,2500),fontsize = 11)\n",
    "plt.xticks(rotation = 0)\n",
    "plt.show()"
   ]
  },
  {
   "attachments": {},
   "cell_type": "markdown",
   "metadata": {},
   "source": [
    "Saving only the Transaction messages to the dataframe."
   ]
  },
  {
   "cell_type": "code",
   "execution_count": 9,
   "metadata": {},
   "outputs": [],
   "source": [
    "dt = dt[dt.mess_type == 'Transaction'] "
   ]
  },
  {
   "attachments": {},
   "cell_type": "markdown",
   "metadata": {},
   "source": [
    "Our Objective is to classify these transaction messages into Info, Received and Spent categories. To train a supervisied learning model we need a label dataset.\n",
    "\n",
    "To achieve this I have implemented yet another function div_transactions that will divide the transactions messages into three categories."
   ]
  },
  {
   "cell_type": "code",
   "execution_count": 10,
   "metadata": {},
   "outputs": [],
   "source": [
    "def div_transactions(x):\n",
    "    x = str(x).split(\" \")\n",
    "    received_words = [\"received\",\"credited\",\"cr\"]\n",
    "    spend_words = [\"sent\",\"debited\",\"db\"]\n",
    "    for words in received_words:\n",
    "        if words in x:\n",
    "            return \"Received\"\n",
    "    \n",
    "    for words in spend_words:\n",
    "        if words in x:\n",
    "            return \"Spent\"\n",
    "    \n",
    "    return \"Info\"\n",
    "\n",
    "transac_type = dt[\"mess_bod\"].apply(div_transactions)\n",
    "dt['transac_type'] = transac_type"
   ]
  },
  {
   "cell_type": "code",
   "execution_count": 11,
   "metadata": {},
   "outputs": [
    {
     "data": {
      "image/png": "[encoded data removed]",
      "text/plain": [
       "<Figure size 640x480 with 1 Axes>"
      ]
     },
     "metadata": {},
     "output_type": "display_data"
    }
   ],
   "source": [
    "dt['transac_type'].value_counts().plot(kind = 'bar',\n",
    "                                       title=\"Number of Transactions from each category\", \n",
    "                                       color=\"crimson\")\n",
    "plt.xticks(rotation = 0)\n",
    "plt.show()"
   ]
  },
  {
   "attachments": {},
   "cell_type": "markdown",
   "metadata": {},
   "source": [
    "We cannot Rely on this function to distribute our data into the categories very accurately. I have manually cross checked 700 transactional messages of the dataset and made necessary changes by reading the text one by one.\n",
    "\n",
    "There were some major mistakes in this classification.\n",
    "\n",
    "- Credit Card transaction messages were not included in the Spent category.\n",
    "- Many messages such as spams and messages related to mobile/internet recharge for carrier were classified incorrectly many were found in received category.\n",
    "- Messages those have credited and debited both in the statement were missclassified."
   ]
  },
  {
   "attachments": {},
   "cell_type": "markdown",
   "metadata": {},
   "source": [
    "After correcting the initial 700 text messages using the numbers app I created a new csv file of 700 messages belonging to accurate classes to further analyse and create an AI model to classify these messages."
   ]
  },
  {
   "cell_type": "code",
   "execution_count": 12,
   "metadata": {},
   "outputs": [
    {
     "name": "stdout",
     "output_type": "stream",
     "text": [
      "<class 'pandas.core.frame.DataFrame'>\n",
      "RangeIndex: 700 entries, 0 to 699\n",
      "Data columns (total 3 columns):\n",
      " #   Column        Non-Null Count  Dtype \n",
      "---  ------        --------------  ----- \n",
      " 0   mess_id       700 non-null    int64 \n",
      " 1   mess_bod      700 non-null    object\n",
      " 2   transac_type  700 non-null    object\n",
      "dtypes: int64(1), object(2)\n",
      "memory usage: 16.5+ KB\n"
     ]
    }
   ],
   "source": [
    "dt = pd.read_csv('transactions_700.csv',).head(700)\n",
    "dt = dt[['mess_id','mess_bod','transac_type']]\n",
    "dt.info()"
   ]
  },
  {
   "cell_type": "code",
   "execution_count": 13,
   "metadata": {},
   "outputs": [],
   "source": [
    "dt.loc[dt[\"transac_type\"] == 'Spam','transac_type'] = 'Info'\n",
    "dt.loc[dt[\"transac_type\"] == 'Info ','transac_type'] = 'Info'\n",
    "dt.loc[dt[\"transac_type\"] == 'Yet to know','transac_type'] = 'Spent'"
   ]
  },
  {
   "cell_type": "code",
   "execution_count": 14,
   "metadata": {},
   "outputs": [
    {
     "data": {
      "image/png": "[encoded data removed]",
      "text/plain": [
       "<Figure size 640x480 with 1 Axes>"
      ]
     },
     "metadata": {},
     "output_type": "display_data"
    }
   ],
   "source": [
    "dt.transac_type.value_counts().plot(kind = 'bar',\n",
    "                                    color = 'crimson')\n",
    "plt.show()"
   ]
  },
  {
   "attachments": {},
   "cell_type": "markdown",
   "metadata": {},
   "source": [
    "## Data Pre Processing"
   ]
  },
  {
   "attachments": {},
   "cell_type": "markdown",
   "metadata": {},
   "source": [
    "In natural language processing (NLP), text data is represented as a sequence of words or tokens. However, most machine learning algorithms and models are designed to work with numerical data. This is where embedding and vectorization come in.\n",
    "\n",
    "Vectorization is the process of converting text data into numerical vectors that can be used by machine learning algorithms. \n",
    "\n",
    "Embedding, on the other hand, is a technique used to represent words as dense numerical vectors that capture the semantic meaning of words. Word embeddings are created using unsupervised learning which analyze the co-occurrence patterns of words in a large corpus of text data to learn high-dimensional representations of words.\n",
    "\n",
    " This allows for more efficient and effective modeling of natural language data, leading to better performance on NLP tasks such as sentiment analysis, text classification, and language translation."
   ]
  },
  {
   "attachments": {},
   "cell_type": "markdown",
   "metadata": {},
   "source": [
    "In the case of text messages, the length of messages can vary widely from just a few words to several paragraphs. If we were to use a fixed embedding dimension for all messages, we might run into issues where longer messages have embeddings that are too compressed, resulting in a loss of information, or shorter messages have embeddings that are too sparse, resulting in overfitting.\n",
    "\n",
    "By checking the length of messages before deciding on the embedding dimension, we can choose an appropriate embedding dimension that is proportional to the length of the message."
   ]
  },
  {
   "cell_type": "code",
   "execution_count": 15,
   "metadata": {},
   "outputs": [],
   "source": [
    "dt['text_length'] = dt[\"mess_bod\"].apply(lambda x : len(x.split()))"
   ]
  },
  {
   "cell_type": "code",
   "execution_count": 16,
   "metadata": {},
   "outputs": [
    {
     "data": {
      "image/png": "[encoded data removed]",
      "text/plain": [
       "<Figure size 640x480 with 1 Axes>"
      ]
     },
     "metadata": {},
     "output_type": "display_data"
    }
   ],
   "source": [
    "sns.kdeplot(data = dt,x = dt['text_length'],hue = dt['transac_type'])\n",
    "plt.axvline(dt.text_length.mean(),color = 'red',linestyle ='--')\n",
    "plt.axvline(np.quantile(dt.text_length,0.9),color = 'k',linestyle ='--')\n",
    "plt.show()"
   ]
  },
  {
   "attachments": {},
   "cell_type": "markdown",
   "metadata": {},
   "source": [
    "The mean of the lengths of the messages is around 25, 90% of the text messages are below the length of around 35, we can choose the embedding dimension to be 35 that will have 90% of the information from all the text messages, but as we know machine learning/AI models are as capable as the data fed to them and clearly a pattern is visible that the messages with length range from 40-60 are more likely to be a Information message so we will go ahead and select the embedding dimension to be 60"
   ]
  },
  {
   "cell_type": "code",
   "execution_count": 17,
   "metadata": {},
   "outputs": [],
   "source": [
    "max_seq_length = 60"
   ]
  },
  {
   "attachments": {},
   "cell_type": "markdown",
   "metadata": {},
   "source": [
    "I will not be sharing my personal transactional messages on the internet as privacy can be controlled in this scenario 😈.\\\n",
    "So let us create three messages text(imaginary) for the purpose of this report.\n",
    "\n",
    "Info : Your EMI of RS. 14999 is due on 2nd of upcoming month for the purchase of PS5 from amazon against your credit card\\\n",
    "Received : Received rs. 51 in your bank account for the stale gulab jaamun from zomato\\\n",
    "Spent : rs. 18 has been debited from your bank account against upi blahblah@paytm transaction id 7777777777777\n",
    "\n"
   ]
  },
  {
   "cell_type": "code",
   "execution_count": 18,
   "metadata": {},
   "outputs": [],
   "source": [
    "string_one = \"Your EMI of RS. 14999 is due on 2nd of upcoming month for the purchase of PS5 from amazon against your credit card.\"\n",
    "string_two = \"Received rs. 51 in your bank account for the stale gulab jaamun from zomato.\"\n",
    "string_three = \"Rs. 18 has been debited from your bank account against upi blahblah@paytm transaction id 7777777777777.\""
   ]
  },
  {
   "attachments": {},
   "cell_type": "markdown",
   "metadata": {},
   "source": [
    "We need to standardize the raw text data that we have before we feed it into the model, for the end purpose of using this model into an android application we can use our good friend tensorflow to do so, at the end we can even incorporate this standardization into our model so that it can take raw texts and make predictions on them.\n",
    "\n",
    "We need to remove the numbers that are present in our texts and also the punctuation, lower the case of every words."
   ]
  },
  {
   "cell_type": "code",
   "execution_count": 19,
   "metadata": {},
   "outputs": [],
   "source": [
    "def standardize_text(input_text):\n",
    "    text_messages = tf.convert_to_tensor(input_text) # convert the input text to a tensor\n",
    "    lower_texts = tf.strings.lower(text_messages) # convert all the characters to lowercase\n",
    "    remove_nums = tf.strings.regex_replace(lower_texts,\"\\\\d\",\"\") # replace digits in the text\n",
    "    remove_spec = tf.strings.regex_replace(remove_nums,'[%s]' % re.escape(string.punctuation),'')\n",
    "    return remove_spec"
   ]
  },
  {
   "cell_type": "code",
   "execution_count": 20,
   "metadata": {},
   "outputs": [
    {
     "name": "stdout",
     "output_type": "stream",
     "text": [
      "Metal device set to: Apple M2\n",
      "\n",
      "systemMemory: 8.00 GB\n",
      "maxCacheSize: 2.67 GB\n",
      "\n"
     ]
    },
    {
     "data": {
      "text/plain": [
       "b'your emi of rs  is due on nd of upcoming month for the purchase of ps from amazon against your credit card'"
      ]
     },
     "execution_count": 20,
     "metadata": {},
     "output_type": "execute_result"
    }
   ],
   "source": [
    "standardize_text(string_one).numpy()"
   ]
  },
  {
   "attachments": {},
   "cell_type": "markdown",
   "metadata": {},
   "source": [
    "Thats neat ! now we need to decide upon a number that would be the size of our vocabulary, we will go ahead and set it with 10000 , this means that our model will have a vocabulary of 10000 words. Words other than this won't be recongnized by our model."
   ]
  },
  {
   "cell_type": "code",
   "execution_count": 21,
   "metadata": {},
   "outputs": [],
   "source": [
    "vocab_size = 10000\n",
    "\n",
    "# initializing a vectorization layer from tensorflow.\n",
    "vectorize_layer = TextVectorization(\n",
    "    standardize=standardize_text,          # passing our standardize function to pre process the text \n",
    "    max_tokens=vocab_size,                 # setting the maximum vocabulary size\n",
    "    output_mode='int',                     # output will be tensor containing integers value representing our texts also know as tokens in NLP domain\n",
    "    output_sequence_length=max_seq_length) # our output will be this long."
   ]
  },
  {
   "attachments": {},
   "cell_type": "markdown",
   "metadata": {},
   "source": [
    "Let's create a sample dataset to see what actually this layers does."
   ]
  },
  {
   "cell_type": "code",
   "execution_count": 22,
   "metadata": {},
   "outputs": [],
   "source": [
    "sampleX = [string_one,string_two,string_three]\n",
    "\n",
    "vectorize_layer.adapt(sampleX)"
   ]
  },
  {
   "cell_type": "code",
   "execution_count": 23,
   "metadata": {},
   "outputs": [
    {
     "data": {
      "text/plain": [
       "<tf.Tensor: shape=(60,), dtype=int64, numpy=\n",
       "array([ 2, 28,  4,  3, 23, 29, 19, 20,  4, 13, 21,  7,  6, 17,  4, 18,  5,\n",
       "       35,  9,  2, 31, 32,  0,  0,  0,  0,  0,  0,  0,  0,  0,  0,  0,  0,\n",
       "        0,  0,  0,  0,  0,  0,  0,  0,  0,  0,  0,  0,  0,  0,  0,  0,  0,\n",
       "        0,  0,  0,  0,  0,  0,  0,  0,  0])>"
      ]
     },
     "execution_count": 23,
     "metadata": {},
     "output_type": "execute_result"
    }
   ],
   "source": [
    "vectorize_layer(sampleX[0])"
   ]
  },
  {
   "attachments": {},
   "cell_type": "markdown",
   "metadata": {},
   "source": [
    "That's too many numbers. What do they mean any way lets find out.\\\n",
    "\n",
    "Remeber we selected max_seq_length to be 60 the zeros at the end of this array represents the missing words in the sentence of length 60"
   ]
  },
  {
   "cell_type": "code",
   "execution_count": 24,
   "metadata": {},
   "outputs": [
    {
     "data": {
      "text/plain": [
       "['', '[UNK]', 'your', 'rs', 'of']"
      ]
     },
     "execution_count": 24,
     "metadata": {},
     "output_type": "execute_result"
    }
   ],
   "source": [
    "vectorize_layer.get_vocabulary()[:5]"
   ]
  },
  {
   "attachments": {},
   "cell_type": "markdown",
   "metadata": {},
   "source": [
    "The starting of the vocabulary list has ' ',[UNK], and then the words in our example strings.\\\n",
    "We can see that 'your' is 2 from the array above and the text we passed to the vectorization layer. \\\n",
    "' ' represents missing values or spaces.\\\n",
    "[UNK] represents words that are not present in the vocabulary.\n",
    "\n",
    "Can you guess what the size of our vocabulary list would be?"
   ]
  },
  {
   "cell_type": "code",
   "execution_count": 25,
   "metadata": {},
   "outputs": [
    {
     "data": {
      "text/plain": [
       "36"
      ]
     },
     "execution_count": 25,
     "metadata": {},
     "output_type": "execute_result"
    }
   ],
   "source": [
    "len(vectorize_layer.get_vocabulary())"
   ]
  },
  {
   "attachments": {},
   "cell_type": "markdown",
   "metadata": {},
   "source": [
    "We only have 35 words in our three sample texts that we provided to the vectorize layer, lets initialize a new vectorize layer and adapt it to the 700 transactional messages that we have classified manually.\n",
    "\n",
    "But first lets split our data into train test and validation set so we can check the performance of the model and make changes to some hyperparameters if required."
   ]
  },
  {
   "cell_type": "code",
   "execution_count": 26,
   "metadata": {},
   "outputs": [
    {
     "name": "stdout",
     "output_type": "stream",
     "text": [
      "Size of Train dataset :  630\n",
      "Size of Test dataset :  35\n",
      "Size of Val dataset :  35\n"
     ]
    }
   ],
   "source": [
    "X = dt['mess_bod']\n",
    "y = dt['transac_type']\n",
    "\n",
    "# splitting into train and test_val\n",
    "\n",
    "X_train, X_test_val, y_train, y_test_val = train_test_split(X,y,test_size=0.1,random_state=42)\n",
    "\n",
    "#splitting into test and validation set\n",
    "\n",
    "X_test,X_val,y_test,y_val = train_test_split(X_test_val,y_test_val,test_size=0.5,random_state=42)\n",
    "\n",
    "print(\"Size of Train dataset : \", X_train.shape[0])\n",
    "print(\"Size of Test dataset : \", X_test.shape[0])\n",
    "print(\"Size of Val dataset : \", X_val.shape[0])"
   ]
  },
  {
   "cell_type": "code",
   "execution_count": 27,
   "metadata": {},
   "outputs": [],
   "source": [
    "y_train = pd.get_dummies(y_train)\n",
    "y_test = pd.get_dummies(y_test)\n",
    "y_val = pd.get_dummies(y_val)"
   ]
  },
  {
   "attachments": {},
   "cell_type": "markdown",
   "metadata": {},
   "source": [
    "After the train test split of the data at hand we have 90% of data that is 630 messages for training the model, 35 to validate the model while training and 35 to the test the model at the very end.\n",
    "\n",
    "After adapting the vectorize layer to our X_train data we have a vocabulary of size 819 a good set of words as compared to the one we received with three texts."
   ]
  },
  {
   "cell_type": "code",
   "execution_count": 28,
   "metadata": {},
   "outputs": [
    {
     "data": {
      "text/plain": [
       "819"
      ]
     },
     "execution_count": 28,
     "metadata": {},
     "output_type": "execute_result"
    }
   ],
   "source": [
    "vectorize_layer.adapt(X_train)\n",
    "len(vectorize_layer.get_vocabulary())"
   ]
  },
  {
   "attachments": {},
   "cell_type": "markdown",
   "metadata": {},
   "source": [
    "Now we have vectors for each sentences and we need to embed them in a higher dimension, which can be done using the Embedding layer from tensorflow. This higer dimension representation of our text will help the model to understand the meaning of the text.\n",
    "\n",
    "For eg. We humans can interpret that words such as happy, smile, laugh are closer to each other as they describe a emotion of happines but machine don't have this capabilty , so to achieve this we create a high dimensional representation for these words so the machine can calculate the similarity of these words based on the disatance netween these arrays in a higher dimension."
   ]
  },
  {
   "attachments": {},
   "cell_type": "markdown",
   "metadata": {},
   "source": [
    "To understand and see what this embedding layer does lets create a tensor array of size 4 and pass it through a embedding layer with a embedding feature set of 50 and a dimension of 3"
   ]
  },
  {
   "cell_type": "code",
   "execution_count": 29,
   "metadata": {},
   "outputs": [
    {
     "data": {
      "text/plain": [
       "<tensorflow.python.ops.tensor_array_ops.TensorArray at 0x1460525f0>"
      ]
     },
     "execution_count": 29,
     "metadata": {},
     "output_type": "execute_result"
    }
   ],
   "source": [
    "tensor_array = tf.TensorArray(tf.int32,size=4)\n",
    "tensor_array.write(0,12).mark_used()\n",
    "tensor_array.write(1,15).mark_used()\n",
    "tensor_array.write(2,45).mark_used()\n",
    "tensor_array.write(3,0)"
   ]
  },
  {
   "cell_type": "code",
   "execution_count": 30,
   "metadata": {},
   "outputs": [
    {
     "data": {
      "text/plain": [
       "array([12, 15, 45,  0], dtype=int32)"
      ]
     },
     "execution_count": 30,
     "metadata": {},
     "output_type": "execute_result"
    }
   ],
   "source": [
    "tensor_array.stack().numpy()"
   ]
  },
  {
   "cell_type": "code",
   "execution_count": 31,
   "metadata": {},
   "outputs": [
    {
     "data": {
      "text/plain": [
       "<tf.Tensor: shape=(4, 3), dtype=float32, numpy=\n",
       "array([[ 0.02515585,  0.00162947,  0.02032625],\n",
       "       [ 0.01031089, -0.02891344, -0.02378489],\n",
       "       [-0.03730098,  0.01270146, -0.04216348],\n",
       "       [-0.04525834,  0.02010795, -0.00100758]], dtype=float32)>"
      ]
     },
     "execution_count": 31,
     "metadata": {},
     "output_type": "execute_result"
    }
   ],
   "source": [
    "Embedding(50,3)(tensor_array.stack())"
   ]
  },
  {
   "attachments": {},
   "cell_type": "markdown",
   "metadata": {},
   "source": [
    "We can see that the embedding layer has created a three dimensional array from the single dimensional array that we passed to it. We will include the embedding layer with 10000 features(the max Vocab size we initialized in the beginning) and 32 dimension for our model."
   ]
  },
  {
   "attachments": {},
   "cell_type": "markdown",
   "metadata": {},
   "source": [
    "Creating a Neural Net "
   ]
  },
  {
   "cell_type": "code",
   "execution_count": 32,
   "metadata": {},
   "outputs": [
    {
     "name": "stdout",
     "output_type": "stream",
     "text": [
      "Model: \"sequential\"\n",
      "_________________________________________________________________\n",
      " Layer (type)                Output Shape              Param #   \n",
      "=================================================================\n",
      " embedding_1 (Embedding)     (None, None, 32)          320032    \n",
      "                                                                 \n",
      " dropout (Dropout)           (None, None, 32)          0         \n",
      "                                                                 \n",
      " global_average_pooling1d (G  (None, 32)               0         \n",
      " lobalAveragePooling1D)                                          \n",
      "                                                                 \n",
      " dropout_1 (Dropout)         (None, 32)                0         \n",
      "                                                                 \n",
      " dense (Dense)               (None, 15)                495       \n",
      "                                                                 \n",
      " dense_1 (Dense)             (None, 3)                 48        \n",
      "                                                                 \n",
      "=================================================================\n",
      "Total params: 320,575\n",
      "Trainable params: 320,575\n",
      "Non-trainable params: 0\n",
      "_________________________________________________________________\n"
     ]
    }
   ],
   "source": [
    "embedding_dim = 32\n",
    "\n",
    "model = tf.keras.Sequential([\n",
    "  Embedding(vocab_size + 1, embedding_dim),\n",
    "  Dropout(0.3),\n",
    "  GlobalAveragePooling1D(),\n",
    "  Dropout(0.3),\n",
    "  Dense(15,activation = 'relu'),\n",
    "  Dense(3,activation = 'softmax')\n",
    "  ])\n",
    "\n",
    "model.summary()"
   ]
  },
  {
   "cell_type": "code",
   "execution_count": 33,
   "metadata": {},
   "outputs": [],
   "source": [
    "model.compile(loss=\"CategoricalCrossentropy\",\n",
    "              optimizer='adam',\n",
    "              metrics=\"accuracy\")"
   ]
  },
  {
   "attachments": {},
   "cell_type": "markdown",
   "metadata": {},
   "source": [
    "Vectorizing the texts in our training, validation and test datasets before feeding them to the model."
   ]
  },
  {
   "cell_type": "code",
   "execution_count": 34,
   "metadata": {},
   "outputs": [],
   "source": [
    "X_train = vectorize_layer(X_train)\n",
    "X_val = vectorize_layer(X_val)\n",
    "X_test = vectorize_layer(X_test)"
   ]
  },
  {
   "attachments": {},
   "cell_type": "markdown",
   "metadata": {},
   "source": [
    "Fitting the model"
   ]
  },
  {
   "cell_type": "code",
   "execution_count": 35,
   "metadata": {},
   "outputs": [],
   "source": [
    "history = model.fit(X_train,y_train,epochs = 60,validation_data = (X_val,y_val),verbose=0)"
   ]
  },
  {
   "attachments": {},
   "cell_type": "markdown",
   "metadata": {},
   "source": [
    "Evaluating the model performance on test dataset"
   ]
  },
  {
   "cell_type": "code",
   "execution_count": 36,
   "metadata": {},
   "outputs": [
    {
     "name": "stdout",
     "output_type": "stream",
     "text": [
      "2/2 [==============================] - 0s 9ms/step - loss: 0.2617 - accuracy: 0.9429\n"
     ]
    },
    {
     "data": {
      "text/plain": [
       "[0.2617080509662628, 0.9428571462631226]"
      ]
     },
     "execution_count": 36,
     "metadata": {},
     "output_type": "execute_result"
    }
   ],
   "source": [
    "model.evaluate(X_test,y_test)"
   ]
  },
  {
   "attachments": {},
   "cell_type": "markdown",
   "metadata": {},
   "source": [
    "What? 🫢 accuracy of 94% too good to be true, let plot the model training loss and validation loss and also the training accuracy and validation accuracy to see of the model is overfitting or not"
   ]
  },
  {
   "cell_type": "code",
   "execution_count": 37,
   "metadata": {},
   "outputs": [
    {
     "data": {
      "text/plain": [
       "dict_keys(['loss', 'accuracy', 'val_loss', 'val_accuracy'])"
      ]
     },
     "execution_count": 37,
     "metadata": {},
     "output_type": "execute_result"
    }
   ],
   "source": [
    "history_dict = history.history\n",
    "history_dict.keys()"
   ]
  },
  {
   "cell_type": "code",
   "execution_count": 38,
   "metadata": {},
   "outputs": [
    {
     "data": {
      "image/png": "[encoded data removed]",
      "text/plain": [
       "<Figure size 640x480 with 1 Axes>"
      ]
     },
     "metadata": {},
     "output_type": "display_data"
    }
   ],
   "source": [
    "acc = history_dict['accuracy']\n",
    "val_acc = history_dict['val_accuracy']\n",
    "loss = history_dict['loss']\n",
    "val_loss = history_dict['val_loss']\n",
    "\n",
    "epochs = range(1, len(acc) + 1)\n",
    "\n",
    "# \"bo\" is for \"blue dot\"\n",
    "plt.plot(epochs, loss, 'bo', label='Training loss')\n",
    "# b is for \"solid blue line\"\n",
    "plt.plot(epochs, val_loss, 'r', label='Validation loss')\n",
    "plt.title('Training and validation loss')\n",
    "plt.xlabel('Epochs')\n",
    "plt.ylabel('Loss')\n",
    "plt.legend()\n",
    "\n",
    "plt.show()"
   ]
  },
  {
   "cell_type": "code",
   "execution_count": 39,
   "metadata": {},
   "outputs": [
    {
     "data": {
      "image/png": "[encoded data removed]",
      "text/plain": [
       "<Figure size 640x480 with 1 Axes>"
      ]
     },
     "metadata": {},
     "output_type": "display_data"
    }
   ],
   "source": [
    "plt.plot(epochs, acc, 'bo', label='Training acc')\n",
    "plt.plot(epochs, val_acc, 'r', label='Validation acc')\n",
    "plt.title('Training and validation accuracy')\n",
    "plt.xlabel('Epochs')\n",
    "plt.ylabel('Accuracy')\n",
    "plt.legend(loc='lower right')\n",
    "\n",
    "plt.show()"
   ]
  },
  {
   "attachments": {},
   "cell_type": "markdown",
   "metadata": {},
   "source": [
    "Our model is overfitted a bit the validation accuracy is around 0.97% and our training accuracy is 100% we can work with that.\\\n",
    "\n",
    "How to overcome this overfitting?\n",
    "- Gather more data and train the model on the new data \n",
    "- Use regularization or dropout layers.\n",
    "- change the learning rate or play with the number of layers."
   ]
  },
  {
   "attachments": {},
   "cell_type": "markdown",
   "metadata": {},
   "source": [
    "I am happy with the model that has converged and can live with the amount of overfitting that is as of now but how will this model perform on our imaginary text data, let's find out."
   ]
  },
  {
   "cell_type": "code",
   "execution_count": 40,
   "metadata": {},
   "outputs": [],
   "source": [
    "strings = vectorize_layer([string_one,string_two,string_three])"
   ]
  },
  {
   "cell_type": "code",
   "execution_count": 41,
   "metadata": {},
   "outputs": [
    {
     "data": {
      "text/plain": [
       "'Your EMI of RS. 14999 is due on 2nd of upcoming month for the purchase of PS5 from amazon against your credit card.'"
      ]
     },
     "execution_count": 41,
     "metadata": {},
     "output_type": "execute_result"
    }
   ],
   "source": [
    "string_one"
   ]
  },
  {
   "cell_type": "code",
   "execution_count": 42,
   "metadata": {},
   "outputs": [
    {
     "name": "stdout",
     "output_type": "stream",
     "text": [
      "1/1 [==============================] - 0s 71ms/step\n"
     ]
    }
   ],
   "source": [
    "preds = model.predict(strings)"
   ]
  },
  {
   "cell_type": "code",
   "execution_count": 43,
   "metadata": {},
   "outputs": [
    {
     "name": "stdout",
     "output_type": "stream",
     "text": [
      "Our model predicted Your EMI of RS. 14999 is due on 2nd of upcoming month for the purchase of PS5 from amazon against your credit card. \n",
      "which was orignially informational to be \n",
      "Info\n",
      "Our model predicted Received rs. 51 in your bank account for the stale gulab jaamun from zomato. \n",
      "which was orignially Received to be \n",
      "Received\n",
      "Our model predicted Rs. 18 has been debited from your bank account against upi blahblah@paytm transaction id 7777777777777. \n",
      "which was orignially Spent to be \n",
      "Spent\n"
     ]
    }
   ],
   "source": [
    "categories = y_test.columns.to_list()\n",
    "\n",
    "print(f\"Our model predicted {string_one} \\nwhich was orignially informational to be \\n{categories[np.argmax(preds[0])]}\")\n",
    "print(f\"Our model predicted {string_two} \\nwhich was orignially Received to be \\n{categories[np.argmax(preds[1])]}\")\n",
    "print(f\"Our model predicted {string_three} \\nwhich was orignially Spent to be \\n{categories[np.argmax(preds[2])]}\")"
   ]
  },
  {
   "attachments": {},
   "cell_type": "markdown",
   "metadata": {},
   "source": [
    "So far so good , but there is plenty of room for improvement in this model, we need to collect more data and retrain it with that data as the model in real life does not perform this well, How do I know? I created an android app for it classify my text messages for me and it disappointed me 😢 at the same time motivated to somehow completed the classification of the remaining text messages in the dataset, which is one of the future scope of this project."
   ]
  },
  {
   "attachments": {},
   "cell_type": "markdown",
   "metadata": {},
   "source": [
    "Saving Model "
   ]
  },
  {
   "attachments": {},
   "cell_type": "markdown",
   "metadata": {},
   "source": [
    "To save our model we will first merge the model with vectorization layer so that in our android app this is a single step process and we just need to pass the message text and it can output the prediction "
   ]
  },
  {
   "cell_type": "code",
   "execution_count": 44,
   "metadata": {},
   "outputs": [
    {
     "name": "stdout",
     "output_type": "stream",
     "text": [
      "1/1 [==============================] - 0s 76ms/step\n"
     ]
    },
    {
     "data": {
      "text/plain": [
       "array([[0.9580095 , 0.03185103, 0.0101395 ]], dtype=float32)"
      ]
     },
     "execution_count": 44,
     "metadata": {},
     "output_type": "execute_result"
    }
   ],
   "source": [
    "export_model = tf.keras.models.Sequential(\n",
    "  [\n",
    "  vectorize_layer,\n",
    "  model\n",
    "])\n",
    "\n",
    "export_model.compile(loss=\"CategoricalCrossentropy\",\n",
    "              optimizer='adam',\n",
    "              metrics=\"accuracy\")\n",
    "\n",
    "export_model.predict([string_one])"
   ]
  },
  {
   "cell_type": "code",
   "execution_count": 45,
   "metadata": {},
   "outputs": [
    {
     "name": "stdout",
     "output_type": "stream",
     "text": [
      "INFO:tensorflow:Assets written to: /var/folders/wp/c795nqfs46j5_26txxp3ggbh0000gn/T/tmptn8zlxoq/assets\n"
     ]
    }
   ],
   "source": [
    "converter = tf.lite.TFLiteConverter.from_keras_model(export_model)\n",
    "converter.target_spec.supported_ops = [\n",
    "  tf.lite.OpsSet.TFLITE_BUILTINS, # enable TensorFlow Lite ops.\n",
    "  tf.lite.OpsSet.SELECT_TF_OPS # enable TensorFlow ops.\n",
    "]\n",
    "tflite_model = converter.convert()\n"
   ]
  },
  {
   "cell_type": "code",
   "execution_count": 46,
   "metadata": {},
   "outputs": [],
   "source": [
    "with open('classification_text.tflite', 'wb') as f:\n",
    "  f.write(tflite_model)"
   ]
  },
  {
   "cell_type": "code",
   "execution_count": 47,
   "metadata": {},
   "outputs": [
    {
     "name": "stderr",
     "output_type": "stream",
     "text": [
      "INFO: Created TensorFlow Lite delegate for select TF ops.\n",
      "INFO: TfLiteFlexDelegate delegate: 5 nodes delegated out of 19 nodes with 2 partitions.\n",
      "\n",
      "INFO: Created TensorFlow Lite XNNPACK delegate for CPU.\n"
     ]
    }
   ],
   "source": [
    "interpreter = tf.lite.Interpreter(model_content=tflite_model)\n",
    "interpreter.allocate_tensors()\n",
    "\n",
    "input_index = interpreter.get_input_details()[0][\"index\"]\n",
    "output_index = interpreter.get_output_details()[0][\"index\"]"
   ]
  },
  {
   "cell_type": "code",
   "execution_count": 48,
   "metadata": {},
   "outputs": [
    {
     "data": {
      "text/plain": [
       "array([[0.9580095 , 0.03185105, 0.01013951]], dtype=float32)"
      ]
     },
     "execution_count": 48,
     "metadata": {},
     "output_type": "execute_result"
    }
   ],
   "source": [
    "input_data = np.array([string_one])\n",
    "interpreter.set_tensor(input_index, input_data)\n",
    "interpreter.invoke()\n",
    "interpreter.get_tensor(output_index)"
   ]
  }
 ],
 "metadata": {
  "kernelspec": {
   "display_name": "transactions",
   "language": "python",
   "name": "python3"
  },
  "language_info": {
   "codemirror_mode": {
    "name": "ipython",
    "version": 3
   },
   "file_extension": ".py",
   "mimetype": "text/x-python",
   "name": "python",
   "nbconvert_exporter": "python",
   "pygments_lexer": "ipython3",
   "version": "3.10.11"
  },
  "orig_nbformat": 4
 },
 "nbformat": 4,
 "nbformat_minor": 2
}
